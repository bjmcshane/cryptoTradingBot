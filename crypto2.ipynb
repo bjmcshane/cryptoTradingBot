{
 "cells": [
  {
   "cell_type": "code",
   "execution_count": 2,
   "metadata": {},
   "outputs": [
    {
     "output_type": "error",
     "ename": "ModuleNotFoundError",
     "evalue": "No module named 'seaborn'",
     "traceback": [
      "\u001b[0;31m---------------------------------------------------------------------------\u001b[0m",
      "\u001b[0;31mModuleNotFoundError\u001b[0m                       Traceback (most recent call last)",
      "\u001b[0;32m<ipython-input-2-b300efd61de6>\u001b[0m in \u001b[0;36m<module>\u001b[0;34m\u001b[0m\n\u001b[1;32m      2\u001b[0m \u001b[0;32mimport\u001b[0m \u001b[0mnumpy\u001b[0m \u001b[0;32mas\u001b[0m \u001b[0mnp\u001b[0m\u001b[0;34m\u001b[0m\u001b[0;34m\u001b[0m\u001b[0m\n\u001b[1;32m      3\u001b[0m \u001b[0;32mfrom\u001b[0m \u001b[0mdatetime\u001b[0m \u001b[0;32mimport\u001b[0m \u001b[0mdatetime\u001b[0m\u001b[0;34m\u001b[0m\u001b[0;34m\u001b[0m\u001b[0m\n\u001b[0;32m----> 4\u001b[0;31m \u001b[0;32mimport\u001b[0m \u001b[0mseaborn\u001b[0m \u001b[0;32mas\u001b[0m \u001b[0msb\u001b[0m\u001b[0;34m\u001b[0m\u001b[0;34m\u001b[0m\u001b[0m\n\u001b[0m\u001b[1;32m      5\u001b[0m \u001b[0;32mimport\u001b[0m \u001b[0mmatplotlib\u001b[0m\u001b[0;34m.\u001b[0m\u001b[0mpyplot\u001b[0m \u001b[0;32mas\u001b[0m \u001b[0mplt\u001b[0m\u001b[0;34m\u001b[0m\u001b[0;34m\u001b[0m\u001b[0m\n\u001b[1;32m      6\u001b[0m \u001b[0;31m#plt.style.use('fivethirtyeight')\u001b[0m\u001b[0;34m\u001b[0m\u001b[0;34m\u001b[0m\u001b[0;34m\u001b[0m\u001b[0m\n",
      "\u001b[0;31mModuleNotFoundError\u001b[0m: No module named 'seaborn'"
     ]
    }
   ],
   "source": [
    "import pandas as pd\n",
    "import numpy as np\n",
    "from datetime import datetime\n",
    "import seaborn as sb\n",
    "import matplotlib.pyplot as plt\n",
    "#plt.style.use('fivethirtyeight')\n",
    "from fastquant import get_crypto_data\n",
    "from fastquant import backtest\n",
    "# https://github.com/enzoampil/fastquant"
   ]
  },
  {
   "cell_type": "code",
   "execution_count": 15,
   "metadata": {},
   "outputs": [],
   "source": [
    "#btc = get_crypto_data(\"BTC/USDT\", \"2014-05-01\", \"2020-08-20\")\n",
    "#btc.info()"
   ]
  },
  {
   "cell_type": "code",
   "execution_count": 16,
   "metadata": {},
   "outputs": [],
   "source": [
    "#btc.describe()"
   ]
  },
  {
   "cell_type": "code",
   "execution_count": 17,
   "metadata": {},
   "outputs": [],
   "source": [
    "#eth = get_crypto_data(\"ETH/USDT\", \"2019-05-01\", \"2020-08-20\")\n",
    "#eth.head()"
   ]
  },
  {
   "cell_type": "code",
   "execution_count": 18,
   "metadata": {},
   "outputs": [
    {
     "output_type": "error",
     "ename": "NameError",
     "evalue": "name 'backtest' is not defined",
     "traceback": [
      "\u001b[0;31m---------------------------------------------------------------------------\u001b[0m",
      "\u001b[0;31mNameError\u001b[0m                                 Traceback (most recent call last)",
      "\u001b[0;32m<ipython-input-18-7e6207a6f12c>\u001b[0m in \u001b[0;36m<module>\u001b[0;34m\u001b[0m\n\u001b[1;32m      6\u001b[0m \u001b[0;31m# when the faster moving average > slower moving average, bullish\u001b[0m\u001b[0;34m\u001b[0m\u001b[0;34m\u001b[0m\u001b[0;34m\u001b[0m\u001b[0m\n\u001b[1;32m      7\u001b[0m \u001b[0;31m# when the faster moving average < slower moving average, bearish\u001b[0m\u001b[0;34m\u001b[0m\u001b[0;34m\u001b[0m\u001b[0;34m\u001b[0m\u001b[0m\n\u001b[0;32m----> 8\u001b[0;31m btc_SMAC = backtest('smac', \n\u001b[0m\u001b[1;32m      9\u001b[0m                     \u001b[0mbtc\u001b[0m\u001b[0;34m,\u001b[0m\u001b[0;34m\u001b[0m\u001b[0;34m\u001b[0m\u001b[0m\n\u001b[1;32m     10\u001b[0m                     \u001b[0mfast_period\u001b[0m\u001b[0;34m=\u001b[0m\u001b[0;36m21\u001b[0m\u001b[0;34m,\u001b[0m \u001b[0;31m# can use range(10,20,30) to test multiple\u001b[0m\u001b[0;34m\u001b[0m\u001b[0;34m\u001b[0m\u001b[0m\n",
      "\u001b[0;31mNameError\u001b[0m: name 'backtest' is not defined"
     ]
    }
   ],
   "source": [
    "# simple moving average\n",
    "# oldest and most widely used techincal indicator.\n",
    "# adds together the last 15 days, divides to find mean. Same with the 40 days\n",
    "# every day a data point gets tossed and one gets added\n",
    "# more days = more data points and the slower changes will make an impact\n",
    "# when the faster moving average > slower moving average, bullish\n",
    "# when the faster moving average < slower moving average, bearish\n",
    "btc_SMAC = backtest('smac', \n",
    "                    btc, \n",
    "                    fast_period=21, # can use range(10,20,30) to test multiple\n",
    "                    slow_period=40)\n",
    "# use ratio between the two averages as an input variable, a long with as much information as\n",
    "# possible on the buys=good/sells = good"
   ]
  },
  {
   "cell_type": "code",
   "execution_count": 6,
   "metadata": {},
   "outputs": [],
   "source": [
    "#for optimizing the input parameters for SMAC\n",
    "#print(btc_SMAC[['fast_period', 'slow_period', \"final_value\"]].head())"
   ]
  },
  {
   "cell_type": "code",
   "execution_count": 7,
   "metadata": {},
   "outputs": [
    {
     "ename": "NameError",
     "evalue": "name 'backtest' is not defined",
     "output_type": "error",
     "traceback": [
      "\u001b[0;31m---------------------------------------------------------------------------\u001b[0m",
      "\u001b[0;31mNameError\u001b[0m                                 Traceback (most recent call last)",
      "\u001b[0;32m<ipython-input-7-433c7367755a>\u001b[0m in \u001b[0;36m<module>\u001b[0;34m\u001b[0m\n\u001b[1;32m      9\u001b[0m \u001b[0;31m# crossing over 70 going down is seen as a bearish signal\u001b[0m\u001b[0;34m\u001b[0m\u001b[0;34m\u001b[0m\u001b[0;34m\u001b[0m\u001b[0m\n\u001b[1;32m     10\u001b[0m \u001b[0;31m# 50 is dead center so use some ratio of rsi score, nevermind just standardize it\u001b[0m\u001b[0;34m\u001b[0m\u001b[0;34m\u001b[0m\u001b[0;34m\u001b[0m\u001b[0m\n\u001b[0;32m---> 11\u001b[0;31m \u001b[0mbtc_RSI\u001b[0m \u001b[0;34m=\u001b[0m \u001b[0mbacktest\u001b[0m\u001b[0;34m(\u001b[0m\u001b[0;34m'rsi'\u001b[0m\u001b[0;34m,\u001b[0m \u001b[0mbtc\u001b[0m\u001b[0;34m,\u001b[0m \u001b[0mrsi_period\u001b[0m\u001b[0;34m=\u001b[0m\u001b[0;36m14\u001b[0m\u001b[0;34m,\u001b[0m \u001b[0mrsi_lower\u001b[0m\u001b[0;34m=\u001b[0m\u001b[0;36m30\u001b[0m\u001b[0;34m,\u001b[0m \u001b[0mrsi_upper\u001b[0m\u001b[0;34m=\u001b[0m\u001b[0;36m70\u001b[0m\u001b[0;34m)\u001b[0m\u001b[0;34m\u001b[0m\u001b[0;34m\u001b[0m\u001b[0m\n\u001b[0m",
      "\u001b[0;31mNameError\u001b[0m: name 'backtest' is not defined"
     ]
    }
   ],
   "source": [
    "# relative strength index\n",
    "# made to measure coin momentum\n",
    "# average gains/average losses over chosen time period\n",
    "# plotted 0 to 100\n",
    "# above 1 -> making money\n",
    "# oversold is rsi score < 30\n",
    "# crossing over 30 going up is seen as a bullish signal\n",
    "# overbought is rsi score > 70\n",
    "# crossing over 70 going down is seen as a bearish signal\n",
    "# 50 is dead center so use some ratio of rsi score, nevermind just standardize it\n",
    "btc_RSI = backtest('rsi', btc, rsi_period=14, rsi_lower=30, rsi_upper=70)"
   ]
  },
  {
   "cell_type": "code",
   "execution_count": 8,
   "metadata": {},
   "outputs": [
    {
     "ename": "NameError",
     "evalue": "name 'btc_RSI' is not defined",
     "output_type": "error",
     "traceback": [
      "\u001b[0;31m---------------------------------------------------------------------------\u001b[0m",
      "\u001b[0;31mNameError\u001b[0m                                 Traceback (most recent call last)",
      "\u001b[0;32m<ipython-input-8-ee640caa64df>\u001b[0m in \u001b[0;36m<module>\u001b[0;34m\u001b[0m\n\u001b[0;32m----> 1\u001b[0;31m \u001b[0mbtc_RSI\u001b[0m\u001b[0;34m.\u001b[0m\u001b[0mhead\u001b[0m\u001b[0;34m(\u001b[0m\u001b[0;34m)\u001b[0m\u001b[0;34m\u001b[0m\u001b[0;34m\u001b[0m\u001b[0m\n\u001b[0m",
      "\u001b[0;31mNameError\u001b[0m: name 'btc_RSI' is not defined"
     ]
    }
   ],
   "source": [
    "btc_RSI.head()"
   ]
  },
  {
   "cell_type": "code",
   "execution_count": 9,
   "metadata": {},
   "outputs": [
    {
     "ename": "ModuleNotFoundError",
     "evalue": "No module named 'fastquant'",
     "output_type": "error",
     "traceback": [
      "\u001b[0;31m---------------------------------------------------------------------------\u001b[0m",
      "\u001b[0;31mModuleNotFoundError\u001b[0m                       Traceback (most recent call last)",
      "\u001b[0;32m<ipython-input-9-823f047e9579>\u001b[0m in \u001b[0;36m<module>\u001b[0;34m\u001b[0m\n\u001b[1;32m      1\u001b[0m \u001b[0;31m# now we're gonna get fancy and do some sentiment analysis\u001b[0m\u001b[0;34m\u001b[0m\u001b[0;34m\u001b[0m\u001b[0;34m\u001b[0m\u001b[0m\n\u001b[0;32m----> 2\u001b[0;31m \u001b[0;32mfrom\u001b[0m \u001b[0mfastquant\u001b[0m \u001b[0;32mimport\u001b[0m \u001b[0mget_yahoo_data\u001b[0m\u001b[0;34m,\u001b[0m \u001b[0mget_bt_news_sentiment\u001b[0m\u001b[0;34m\u001b[0m\u001b[0;34m\u001b[0m\u001b[0m\n\u001b[0m\u001b[1;32m      3\u001b[0m \u001b[0;32mfrom\u001b[0m \u001b[0mdatetime\u001b[0m \u001b[0;32mimport\u001b[0m \u001b[0mdatetime\u001b[0m\u001b[0;34m,\u001b[0m \u001b[0mtimedelta\u001b[0m\u001b[0;34m\u001b[0m\u001b[0;34m\u001b[0m\u001b[0m\n\u001b[1;32m      4\u001b[0m \u001b[0;34m\u001b[0m\u001b[0m\n\u001b[1;32m      5\u001b[0m \u001b[0mcurrent_date\u001b[0m \u001b[0;34m=\u001b[0m \u001b[0mdatetime\u001b[0m\u001b[0;34m.\u001b[0m\u001b[0mnow\u001b[0m\u001b[0;34m(\u001b[0m\u001b[0;34m)\u001b[0m\u001b[0;34m.\u001b[0m\u001b[0mstrftime\u001b[0m\u001b[0;34m(\u001b[0m\u001b[0;34m\"%Y-%m-%d\"\u001b[0m\u001b[0;34m)\u001b[0m\u001b[0;34m\u001b[0m\u001b[0;34m\u001b[0m\u001b[0m\n",
      "\u001b[0;31mModuleNotFoundError\u001b[0m: No module named 'fastquant'"
     ]
    }
   ],
   "source": [
    "# now we're gonna get fancy and do some sentiment analysis\n",
    "from fastquant import get_yahoo_data, get_bt_news_sentiment\n",
    "from datetime import datetime, timedelta\n",
    "\n",
    "current_date = datetime.now().strftime(\"%Y-%m-%d\")\n",
    "delta_date = (datetime.now() - timedelta(30)).strftime(\"%Y-%m-%d\")\n",
    "\n",
    "#data = get_yahoo_data(\"TSLA\", delta_date, current_date)\n",
    "#sentiments = get_bt_news_sentiment(keyword=\"tesla\", page_nums=3)\n",
    "#btc_SNTM = backest(\"sentiment\", data, sentiments=sentiments, senti=0.2)"
   ]
  },
  {
   "cell_type": "code",
   "execution_count": 10,
   "metadata": {},
   "outputs": [],
   "source": [
    "# using facebook's Prophet module to attempt to forecast prices\n",
    "# this is giving me serious issues with the install, will just kill the kernel if i call Prophet()\n",
    "# none of this block is working rn\n",
    "\n",
    "#from fbprophet import Prophet\n",
    "#import pystan\n",
    "#ts = btc.reset_index()[[\"dt\", \"close\"]]\n",
    "#ts.head()\n",
    "#ts.columns=['ds', 'y']\n",
    "# m = Prophet(daily_seasonality=True, yearly_seasonality=True).fit(ts)\n",
    "#forecast = m.make_future_dataframe(periods=0, freq='D')\n",
    "\n",
    "# predict and plot\n",
    "#pred = m.predict(forecast)\n",
    "#fig1 = m.plot(pred)\n",
    "#plt.title('BTC/USDT: Forecasted Daily Closing Price', fontsize=25)\n",
    "\n"
   ]
  },
  {
   "cell_type": "code",
   "execution_count": 11,
   "metadata": {},
   "outputs": [
    {
     "ename": "NameError",
     "evalue": "name 'backtest' is not defined",
     "output_type": "error",
     "traceback": [
      "\u001b[0;31m---------------------------------------------------------------------------\u001b[0m",
      "\u001b[0;31mNameError\u001b[0m                                 Traceback (most recent call last)",
      "\u001b[0;32m<ipython-input-11-0dddf292a05d>\u001b[0m in \u001b[0;36m<module>\u001b[0;34m\u001b[0m\n\u001b[1;32m      5\u001b[0m }\n\u001b[1;32m      6\u001b[0m \u001b[0;34m\u001b[0m\u001b[0m\n\u001b[0;32m----> 7\u001b[0;31m \u001b[0mbtc_multi\u001b[0m \u001b[0;34m=\u001b[0m \u001b[0mbacktest\u001b[0m\u001b[0;34m(\u001b[0m\u001b[0;34m\"multi\"\u001b[0m\u001b[0;34m,\u001b[0m \u001b[0mbtc\u001b[0m\u001b[0;34m,\u001b[0m \u001b[0mstrats\u001b[0m\u001b[0;34m=\u001b[0m\u001b[0mstrats\u001b[0m\u001b[0;34m)\u001b[0m\u001b[0;34m\u001b[0m\u001b[0;34m\u001b[0m\u001b[0m\n\u001b[0m\u001b[1;32m      8\u001b[0m \u001b[0mbtc_multi\u001b[0m\u001b[0;34m.\u001b[0m\u001b[0mshape\u001b[0m\u001b[0;34m\u001b[0m\u001b[0;34m\u001b[0m\u001b[0m\n\u001b[1;32m      9\u001b[0m \u001b[0;34m\u001b[0m\u001b[0m\n",
      "\u001b[0;31mNameError\u001b[0m: name 'backtest' is not defined"
     ]
    }
   ],
   "source": [
    "# using multiple strategies... nested JSON!\n",
    "strats = {\n",
    "    \"smac\": {\"fast_period\": 35, \"slow_period\": 50},\n",
    "    \"rsi\" : {\"rsi_lower\": 30, \"rsi_upper\": 70}\n",
    "}\n",
    "\n",
    "btc_multi = backtest(\"multi\", btc, strats=strats)\n",
    "btc_multi.shape\n",
    "\n",
    "# Utilize auto grid search\n",
    "strats_opt = { \n",
    "    \"smac\": {\"fast_period\": 35, \"slow_period\": [40, 50]}, \n",
    "    \"rsi\": {\"rsi_lower\": [15, 30], \"rsi_upper\": 70} \n",
    "} \n",
    "\n",
    "res_opt = backtest(\"multi\", df, strats=strats_opt)\n",
    "res_opt.shape\n",
    "# (4, 16)"
   ]
  },
  {
   "cell_type": "code",
   "execution_count": null,
   "metadata": {},
   "outputs": [],
   "source": [
    "# maybe do a LSTM prediction? Buy when more than a certain pecentage increase in the next week?"
   ]
  }
 ],
 "metadata": {
  "kernelspec": {
   "display_name": "firstEnv",
   "language": "python",
   "name": "firstenv"
  },
  "language_info": {
   "codemirror_mode": {
    "name": "ipython",
    "version": 3
   },
   "file_extension": ".py",
   "mimetype": "text/x-python",
   "name": "python",
   "nbconvert_exporter": "python",
   "pygments_lexer": "ipython3",
   "version": "3.8.5-final"
  }
 },
 "nbformat": 4,
 "nbformat_minor": 4
}